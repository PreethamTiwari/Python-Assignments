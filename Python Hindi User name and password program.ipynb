{
 "cells": [
  {
   "cell_type": "markdown",
   "id": "1985c00c",
   "metadata": {},
   "source": [
    "# User name and password program"
   ]
  },
  {
   "cell_type": "code",
   "execution_count": 1,
   "id": "9077d808",
   "metadata": {},
   "outputs": [
    {
     "data": {
      "text/plain": [
       "''"
      ]
     },
     "execution_count": 1,
     "metadata": {},
     "output_type": "execute_result"
    }
   ],
   "source": [
    "'''\n",
    "Write a program to check if the entered username and password\n",
    "are matching the stored username and password\n",
    "'''\n",
    "''"
   ]
  },
  {
   "cell_type": "code",
   "execution_count": 4,
   "id": "f476da92",
   "metadata": {},
   "outputs": [
    {
     "name": "stdout",
     "output_type": "stream",
     "text": [
      "Enter username: User1\n",
      "Enter Password: Password1\n",
      "Login successful\n"
     ]
    }
   ],
   "source": [
    "#Stored un and pwd\n",
    "un = \"User1\"\n",
    "pwd = \"Password1\"\n",
    "\n",
    "Username = input(\"Enter username: \")\n",
    "PW = input(\"Enter Password: \")\n",
    "\n",
    "if Username == un and PW == pwd:\n",
    "    print(\"Login successful\")\n",
    "else:\n",
    "    print(\"Invalid credentials. Please check username or password\")\n"
   ]
  },
  {
   "cell_type": "code",
   "execution_count": null,
   "id": "6498df59",
   "metadata": {},
   "outputs": [],
   "source": []
  }
 ],
 "metadata": {
  "kernelspec": {
   "display_name": "Python 3 (ipykernel)",
   "language": "python",
   "name": "python3"
  },
  "language_info": {
   "codemirror_mode": {
    "name": "ipython",
    "version": 3
   },
   "file_extension": ".py",
   "mimetype": "text/x-python",
   "name": "python",
   "nbconvert_exporter": "python",
   "pygments_lexer": "ipython3",
   "version": "3.9.7"
  }
 },
 "nbformat": 4,
 "nbformat_minor": 5
}
