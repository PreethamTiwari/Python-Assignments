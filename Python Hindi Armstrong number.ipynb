{
 "cells": [
  {
   "cell_type": "markdown",
   "id": "a6e12401",
   "metadata": {},
   "source": [
    "# Armstrong number"
   ]
  },
  {
   "cell_type": "code",
   "execution_count": 1,
   "id": "7c1097e8",
   "metadata": {},
   "outputs": [
    {
     "data": {
      "text/plain": [
       "''"
      ]
     },
     "execution_count": 1,
     "metadata": {},
     "output_type": "execute_result"
    }
   ],
   "source": [
    "'''\n",
    "Write a program to find if it is an armstrong number.\n",
    "\n",
    "How is Armstrong numbre calculated\n",
    "\n",
    "A number is an Armstrong number or narcissistic number \n",
    "if it is equal to the sum of its own digits raised to the\n",
    "power of the number of digits\n",
    "\n",
    "Example\n",
    "371 = 3^3 + 7^7 + 1^1 = 27 + 343 + 1 = 371\n",
    "\n",
    "1634 = 1^1 + 6^6 + 3^3 + 4^4 = 1 + 1296 + 81 + 256\n",
    "'''\n",
    "''"
   ]
  },
  {
   "cell_type": "code",
   "execution_count": 5,
   "id": "abfcd157",
   "metadata": {},
   "outputs": [
    {
     "data": {
      "text/plain": [
       "371"
      ]
     },
     "execution_count": 5,
     "metadata": {},
     "output_type": "execute_result"
    }
   ],
   "source": [
    "#371\n",
    "3*3*3 + 7*7*7 + 1*1*1"
   ]
  },
  {
   "cell_type": "code",
   "execution_count": 14,
   "id": "1df7b204",
   "metadata": {
    "scrolled": true
   },
   "outputs": [
    {
     "name": "stdout",
     "output_type": "stream",
     "text": [
      "Enter your number: \n",
      "371\n",
      "27\n",
      "343\n",
      "1\n",
      "371\n",
      "Armstrong number\n"
     ]
    }
   ],
   "source": [
    "n = input(\"Enter your number: \\n\")\n",
    "s = 0\n",
    "\n",
    "for i in n:\n",
    "    i = int(i)\n",
    "    print(i*i*i)\n",
    "    s = s+i*i*i\n",
    "print(s)\n",
    "\n",
    "if n == str(s):\n",
    "    print(\"Armstrong number\")\n",
    "else:\n",
    "    print(\"Not an Armstrong number\")"
   ]
  },
  {
   "cell_type": "code",
   "execution_count": null,
   "id": "7844346b",
   "metadata": {},
   "outputs": [],
   "source": []
  }
 ],
 "metadata": {
  "kernelspec": {
   "display_name": "Python 3 (ipykernel)",
   "language": "python",
   "name": "python3"
  },
  "language_info": {
   "codemirror_mode": {
    "name": "ipython",
    "version": 3
   },
   "file_extension": ".py",
   "mimetype": "text/x-python",
   "name": "python",
   "nbconvert_exporter": "python",
   "pygments_lexer": "ipython3",
   "version": "3.9.7"
  }
 },
 "nbformat": 4,
 "nbformat_minor": 5
}
