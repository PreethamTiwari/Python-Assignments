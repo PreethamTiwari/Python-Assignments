{
 "cells": [
  {
   "cell_type": "code",
   "execution_count": 2,
   "id": "ac2814b2",
   "metadata": {},
   "outputs": [
    {
     "data": {
      "text/plain": [
       "''"
      ]
     },
     "execution_count": 2,
     "metadata": {},
     "output_type": "execute_result"
    }
   ],
   "source": [
    "'''\n",
    "Wrtie a simple Interest program using Python\n",
    "\n",
    "Simple interest formula is given by:\n",
    "Simple interest = (P x T x R) / 100\n",
    "Where ,\n",
    "P is the principal amount\n",
    "T is the time duration\n",
    "and\n",
    "R is the rate of interest\n",
    "\n",
    "Get the required inputs from the user, calculate Simple interest(SI) and display the result\n",
    "'''\n",
    "''"
   ]
  },
  {
   "cell_type": "code",
   "execution_count": 11,
   "id": "0a4e306b",
   "metadata": {},
   "outputs": [
    {
     "data": {
      "text/plain": [
       "22500.0"
      ]
     },
     "execution_count": 11,
     "metadata": {},
     "output_type": "execute_result"
    }
   ],
   "source": [
    "50000*5*9/100"
   ]
  },
  {
   "cell_type": "code",
   "execution_count": 12,
   "id": "8815666a",
   "metadata": {},
   "outputs": [
    {
     "data": {
      "text/plain": [
       "72500"
      ]
     },
     "execution_count": 12,
     "metadata": {},
     "output_type": "execute_result"
    }
   ],
   "source": [
    "50000 + 22500"
   ]
  },
  {
   "cell_type": "code",
   "execution_count": 14,
   "id": "099ae78b",
   "metadata": {},
   "outputs": [
    {
     "name": "stdout",
     "output_type": "stream",
     "text": [
      "Enter the principal amount: \n",
      "20000\n",
      "Enter the time duration in years: \n",
      "7\n",
      "Enter the rate of interest: \n",
      "9.5\n",
      "The simple interest is 13300.0 and the total amount is 33300.0\n"
     ]
    }
   ],
   "source": [
    "p = float(input(\"Enter the principal amount: \\n\"))\n",
    "t = float(input(\"Enter the time duration in years: \\n\"))\n",
    "r = float(input(\"Enter the rate of interest: \\n\"))\n",
    "si = p*t*r/100\n",
    "ta = si+p\n",
    "print(\"The simple interest is {} and the total amount is {}\".format(si,ta))"
   ]
  },
  {
   "cell_type": "code",
   "execution_count": null,
   "id": "c70f29b9",
   "metadata": {},
   "outputs": [],
   "source": []
  }
 ],
 "metadata": {
  "kernelspec": {
   "display_name": "Python 3 (ipykernel)",
   "language": "python",
   "name": "python3"
  },
  "language_info": {
   "codemirror_mode": {
    "name": "ipython",
    "version": 3
   },
   "file_extension": ".py",
   "mimetype": "text/x-python",
   "name": "python",
   "nbconvert_exporter": "python",
   "pygments_lexer": "ipython3",
   "version": "3.9.7"
  }
 },
 "nbformat": 4,
 "nbformat_minor": 5
}
