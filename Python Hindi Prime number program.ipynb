{
 "cells": [
  {
   "cell_type": "markdown",
   "id": "d0c73d55",
   "metadata": {},
   "source": [
    "# Prime number program"
   ]
  },
  {
   "cell_type": "code",
   "execution_count": 1,
   "id": "5ade3863",
   "metadata": {},
   "outputs": [],
   "source": [
    "##Write a program to check if a given number is prime or not"
   ]
  },
  {
   "cell_type": "code",
   "execution_count": 7,
   "id": "a0298d3a",
   "metadata": {},
   "outputs": [
    {
     "name": "stdout",
     "output_type": "stream",
     "text": [
      "It is a Prime Number\n"
     ]
    }
   ],
   "source": [
    "#6 can be divided by 6,3,2,1 and 11 can be divide by 1 and 11.So 11 is a prime number and 6 is not.\n",
    "\n",
    "n = 11\n",
    "count = 0\n",
    "for i in range(2, (n//2 + 1)):\n",
    "    if(n % i == 0):\n",
    "        count = count + 1\n",
    "        break\n",
    "if (count == 0 and n != 1):\n",
    "    print(\"It is a Prime Number\")\n",
    "else:\n",
    "    print(\"It is not a Prime Number\")"
   ]
  },
  {
   "cell_type": "code",
   "execution_count": null,
   "id": "fea7bf91",
   "metadata": {},
   "outputs": [],
   "source": []
  }
 ],
 "metadata": {
  "kernelspec": {
   "display_name": "Python 3 (ipykernel)",
   "language": "python",
   "name": "python3"
  },
  "language_info": {
   "codemirror_mode": {
    "name": "ipython",
    "version": 3
   },
   "file_extension": ".py",
   "mimetype": "text/x-python",
   "name": "python",
   "nbconvert_exporter": "python",
   "pygments_lexer": "ipython3",
   "version": "3.9.7"
  }
 },
 "nbformat": 4,
 "nbformat_minor": 5
}
